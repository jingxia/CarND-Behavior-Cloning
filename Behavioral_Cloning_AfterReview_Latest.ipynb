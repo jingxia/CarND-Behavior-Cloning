{
 "cells": [
  {
   "cell_type": "code",
   "execution_count": 24,
   "metadata": {
    "collapsed": false
   },
   "outputs": [
    {
     "data": {
      "text/plain": [
       "array([[<matplotlib.axes._subplots.AxesSubplot object at 0x10e85b2e8>]], dtype=object)"
      ]
     },
     "execution_count": 24,
     "metadata": {},
     "output_type": "execute_result"
    },
    {
     "data": {
      "image/png": "[encoded data removed]",
      "text/plain": [
       "<matplotlib.figure.Figure at 0x10a269940>"
      ]
     },
     "metadata": {},
     "output_type": "display_data"
    }
   ],
   "source": [
    "%matplotlib inline\n",
    "\n",
    "import matplotlib as plt\n",
    "import numpy as np\n",
    " \n",
    "import cv2\n",
    "import json\n",
    "import pandas\n",
    "\n",
    "\n",
    "with open('driving_log.csv') as csvfile:\n",
    "    reader = pandas.read_csv(csvfile)\n",
    "    #for line in reader:\n",
    "    #    samples.append(line)\n",
    "\n",
    "reader.iloc[:,3:4].hist(bins=20)\n",
    "\n",
    "#reader.round(1).groupby(['steering']).count().plot(kind='bar')\n",
    "#data['steering'].head().round(1).count().plot()\n",
    "  \n",
    "\n"
   ]
  },
  {
   "cell_type": "code",
   "execution_count": 35,
   "metadata": {
    "collapsed": false
   },
   "outputs": [
    {
     "name": "stdout",
     "output_type": "stream",
     "text": [
      "Epoch 1/3\n",
      "6316/6428 [============================>.] - ETA: 2s - loss: 0.0345 - acc: 0.0114"
     ]
    },
    {
     "name": "stderr",
     "output_type": "stream",
     "text": [
      "/Users/ying/anaconda3/envs/CarND-TensorFlow-Lab/lib/python3.5/site-packages/keras/engine/training.py:1569: UserWarning: Epoch comprised more than `samples_per_epoch` samples, which might affect learning results. Set `samples_per_epoch` correctly to avoid this warning.\n",
      "  warnings.warn('Epoch comprised more than '\n"
     ]
    },
    {
     "name": "stdout",
     "output_type": "stream",
     "text": [
      "6474/6428 [==============================] - 133s - loss: 0.0348 - acc: 0.0111 - val_loss: 0.0208 - val_acc: 0.0093\n",
      "Epoch 2/3\n",
      "6470/6428 [==============================] - 122s - loss: 0.0210 - acc: 0.0121 - val_loss: 0.0224 - val_acc: 0.0058\n",
      "Epoch 3/3\n",
      "6452/6428 [==============================] - 122s - loss: 0.0213 - acc: 0.0108 - val_loss: 0.0202 - val_acc: 0.0123\n",
      "Saving model weights and configuration file.\n"
     ]
    }
   ],
   "source": [
    "import matplotlib.image as mpimg\n",
    "import numpy as np\n",
    "import cv2\n",
    "import random\n",
    "from sklearn.utils import shuffle\n",
    "from sklearn.model_selection import train_test_split\n",
    "import tensorflow as tf\n",
    "from keras.models import Sequential\n",
    "from keras.layers import Dense, Activation, Flatten, Dropout, Lambda, ELU\n",
    "from keras.activations import relu, softmax\n",
    "from keras.layers.convolutional import Convolution2D, Cropping2D\n",
    "from keras.layers.pooling import MaxPooling2D\n",
    "from keras.optimizers import Adam\n",
    "from keras.regularizers import l2\n",
    "import math\n",
    "import os\n",
    "import json\n",
    "import csv\n",
    "\n",
    "def generator(samples, batch_size=128):\n",
    "    num_samples = len(samples)\n",
    "    \n",
    "    while 1: # Loop forever so the generator never terminates\n",
    "        shuffle(samples)\n",
    "        \n",
    "        for offset in range(0, num_samples, batch_size):\n",
    "            \n",
    "            batch_samples = samples[offset:offset+batch_size]\n",
    "            images = []\n",
    "            measurements = []\n",
    "\n",
    "            \n",
    "            for batch_sample in batch_samples:\n",
    "                \n",
    "                # Append left and right cameras to the originial images\n",
    "                for i in range(3):\n",
    "                    path = batch_sample[i]\n",
    "                    tokens = path.split('/')\n",
    "                    filename = tokens[-1]\n",
    "                    local_path = 'IMG/'+filename\n",
    "                    image = cv2.imread(local_path)\n",
    "                    images.append(image)\n",
    "                    \n",
    "                # Append left and right angles with correction(+-0.2)    \n",
    "                correction = .2\n",
    "                measurement = float(batch_sample[3])\n",
    "                measurements.append(measurement)\n",
    "                measurements.append(measurement+correction)\n",
    "                measurements.append(measurement-correction)\n",
    "\n",
    "                aug_imgs = []\n",
    "                aug_msmt = []\n",
    "\n",
    "                # Append flipped images to the samples\n",
    "                for image, measurement in zip(images, measurements):\n",
    "                    \n",
    "                    if abs(measurement) <= 0.01:\n",
    "                        to_add = np.random.randint(0,20)\n",
    "                        if to_add == 1:\n",
    "                            aug_imgs.append(image)\n",
    "                            aug_msmt.append(measurement) \n",
    "                            \n",
    "                            flipped_image = cv2.flip(image, 1)\n",
    "                            flipped_msmt = measurement * -1.0\n",
    "                            \n",
    "                            aug_imgs.append(flipped_image)\n",
    "                            aug_msmt.append(flipped_msmt) \n",
    "\n",
    "                    else:\n",
    "                        aug_imgs.append(image)\n",
    "                        aug_msmt.append(measurement)\n",
    "\n",
    "                        flipped_image = cv2.flip(image, 1)\n",
    "                        flipped_msmt = measurement * -1.0\n",
    "\n",
    "\n",
    "                        aug_imgs.append(flipped_image)\n",
    "                        aug_msmt.append(flipped_msmt) \n",
    "                        \n",
    "\n",
    "            X_sample = np.array(aug_imgs)\n",
    "            y_sample = np.array(aug_msmt)\n",
    "                \n",
    "            yield shuffle(X_sample, y_sample)\n",
    "\n",
    "\n",
    "def get_model(time_len=1):\n",
    "    \"\"\"\n",
    "    A slightly modified version of the Nvidia model\n",
    "    \"\"\"\n",
    "    model = Sequential()\n",
    "    model.add(Lambda(lambda x: x/255 - 0.5,input_shape=(160, 320, 3)))\n",
    "    model.add(Cropping2D(cropping=((70,25),(0,0))))\n",
    "    model.add(Convolution2D(24, 5, 5, subsample=(2,2),activation='relu'))\n",
    "    model.add(Convolution2D(36, 5, 5,subsample=(2,2), activation='relu'))\n",
    "    model.add(Convolution2D(48, 5, 5,subsample=(2,2), activation='relu'))\n",
    "    model.add(Convolution2D(64, 3, 3, activation='relu'))\n",
    "    model.add(Convolution2D(64, 3, 3, activation='relu'))\n",
    "    model.add(Dropout(0.5))\n",
    "    model.add(Flatten())\n",
    "    model.add(Dense(100))\n",
    "    model.add(Dense(50))\n",
    "    model.add(Dense(10))\n",
    "    model.add(Dense(1))\n",
    "\n",
    "    model.compile(optimizer='adam', loss='mse', metrics=['accuracy'])\n",
    "    return model\n",
    "\n",
    "\n",
    "\n",
    "samples = []\n",
    "with open('driving_log.csv') as csvfile:\n",
    "    reader = csv.reader(csvfile)\n",
    "    for line in reader:\n",
    "        samples.append(line)\n",
    "\n",
    "\n",
    "train_samples, validation_samples = train_test_split(samples, test_size=0.2)\n",
    "#X_train, X_validation, y_train, y_validation = train_test_split(X_sample, y_sample, test_size=0.2)\n",
    "\n",
    "# compile and train the model using the generator function\n",
    "train_generator = generator(train_samples, batch_size=32)\n",
    "validation_generator = generator(validation_samples, batch_size=32)\n",
    "\n",
    "\n",
    "model = get_model()\n",
    "model.fit_generator(train_generator, samples_per_epoch=len(train_samples), validation_data=validation_generator,\n",
    "                    nb_val_samples=len(validation_samples), nb_epoch=3)\n",
    "model.save(\"model.h5\")\n",
    "print(\"Saving model weights and configuration file.\")\n",
    "\n",
    "\n",
    "\n",
    "\n"
   ]
  }
 ],
 "metadata": {
  "anaconda-cloud": {},
  "kernelspec": {
   "display_name": "Python 3",
   "language": "python",
   "name": "python3"
  },
  "language_info": {
   "codemirror_mode": {
    "name": "ipython",
    "version": 3
   },
   "file_extension": ".py",
   "mimetype": "text/x-python",
   "name": "python",
   "nbconvert_exporter": "python",
   "pygments_lexer": "ipython3",
   "version": "3.5.2"
  }
 },
 "nbformat": 4,
 "nbformat_minor": 1
}
